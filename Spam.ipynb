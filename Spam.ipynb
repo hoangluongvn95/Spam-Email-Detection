{
 "cells": [
  {
   "cell_type": "markdown",
   "metadata": {},
   "source": [
    "## 1.  Import the spam dataset  "
   ]
  },
  {
   "cell_type": "code",
   "execution_count": 13,
   "metadata": {},
   "outputs": [
    {
     "data": {
      "text/html": [
       "<div>\n",
       "<style scoped>\n",
       "    .dataframe tbody tr th:only-of-type {\n",
       "        vertical-align: middle;\n",
       "    }\n",
       "\n",
       "    .dataframe tbody tr th {\n",
       "        vertical-align: top;\n",
       "    }\n",
       "\n",
       "    .dataframe thead th {\n",
       "        text-align: right;\n",
       "    }\n",
       "</style>\n",
       "<table border=\"1\" class=\"dataframe\">\n",
       "  <thead>\n",
       "    <tr style=\"text-align: right;\">\n",
       "      <th></th>\n",
       "      <th>word_freq_make</th>\n",
       "      <th>word_freq_address</th>\n",
       "      <th>word_freq_all</th>\n",
       "      <th>word_freq_3d</th>\n",
       "      <th>word_freq_our</th>\n",
       "      <th>word_freq_over</th>\n",
       "      <th>word_freq_remove</th>\n",
       "      <th>word_freq_internet</th>\n",
       "      <th>word_freq_order</th>\n",
       "      <th>word_freq_mail</th>\n",
       "      <th>...</th>\n",
       "      <th>char_freq_;</th>\n",
       "      <th>char_freq_(</th>\n",
       "      <th>char_freq_[</th>\n",
       "      <th>char_freq_!</th>\n",
       "      <th>char_freq_$</th>\n",
       "      <th>char_freq_#</th>\n",
       "      <th>capital_run_length_average</th>\n",
       "      <th>capital_run_length_longest</th>\n",
       "      <th>capital_run_length_total</th>\n",
       "      <th>spam</th>\n",
       "    </tr>\n",
       "  </thead>\n",
       "  <tbody>\n",
       "    <tr>\n",
       "      <td>0</td>\n",
       "      <td>0.00</td>\n",
       "      <td>0.64</td>\n",
       "      <td>0.64</td>\n",
       "      <td>0.0</td>\n",
       "      <td>0.32</td>\n",
       "      <td>0.00</td>\n",
       "      <td>0.00</td>\n",
       "      <td>0.00</td>\n",
       "      <td>0.00</td>\n",
       "      <td>0.00</td>\n",
       "      <td>...</td>\n",
       "      <td>0.00</td>\n",
       "      <td>0.000</td>\n",
       "      <td>0.0</td>\n",
       "      <td>0.778</td>\n",
       "      <td>0.000</td>\n",
       "      <td>0.000</td>\n",
       "      <td>3.756</td>\n",
       "      <td>61</td>\n",
       "      <td>278</td>\n",
       "      <td>1</td>\n",
       "    </tr>\n",
       "    <tr>\n",
       "      <td>1</td>\n",
       "      <td>0.21</td>\n",
       "      <td>0.28</td>\n",
       "      <td>0.50</td>\n",
       "      <td>0.0</td>\n",
       "      <td>0.14</td>\n",
       "      <td>0.28</td>\n",
       "      <td>0.21</td>\n",
       "      <td>0.07</td>\n",
       "      <td>0.00</td>\n",
       "      <td>0.94</td>\n",
       "      <td>...</td>\n",
       "      <td>0.00</td>\n",
       "      <td>0.132</td>\n",
       "      <td>0.0</td>\n",
       "      <td>0.372</td>\n",
       "      <td>0.180</td>\n",
       "      <td>0.048</td>\n",
       "      <td>5.114</td>\n",
       "      <td>101</td>\n",
       "      <td>1028</td>\n",
       "      <td>1</td>\n",
       "    </tr>\n",
       "    <tr>\n",
       "      <td>2</td>\n",
       "      <td>0.06</td>\n",
       "      <td>0.00</td>\n",
       "      <td>0.71</td>\n",
       "      <td>0.0</td>\n",
       "      <td>1.23</td>\n",
       "      <td>0.19</td>\n",
       "      <td>0.19</td>\n",
       "      <td>0.12</td>\n",
       "      <td>0.64</td>\n",
       "      <td>0.25</td>\n",
       "      <td>...</td>\n",
       "      <td>0.01</td>\n",
       "      <td>0.143</td>\n",
       "      <td>0.0</td>\n",
       "      <td>0.276</td>\n",
       "      <td>0.184</td>\n",
       "      <td>0.010</td>\n",
       "      <td>9.821</td>\n",
       "      <td>485</td>\n",
       "      <td>2259</td>\n",
       "      <td>1</td>\n",
       "    </tr>\n",
       "    <tr>\n",
       "      <td>3</td>\n",
       "      <td>0.00</td>\n",
       "      <td>0.00</td>\n",
       "      <td>0.00</td>\n",
       "      <td>0.0</td>\n",
       "      <td>0.63</td>\n",
       "      <td>0.00</td>\n",
       "      <td>0.31</td>\n",
       "      <td>0.63</td>\n",
       "      <td>0.31</td>\n",
       "      <td>0.63</td>\n",
       "      <td>...</td>\n",
       "      <td>0.00</td>\n",
       "      <td>0.137</td>\n",
       "      <td>0.0</td>\n",
       "      <td>0.137</td>\n",
       "      <td>0.000</td>\n",
       "      <td>0.000</td>\n",
       "      <td>3.537</td>\n",
       "      <td>40</td>\n",
       "      <td>191</td>\n",
       "      <td>1</td>\n",
       "    </tr>\n",
       "    <tr>\n",
       "      <td>4</td>\n",
       "      <td>0.00</td>\n",
       "      <td>0.00</td>\n",
       "      <td>0.00</td>\n",
       "      <td>0.0</td>\n",
       "      <td>0.63</td>\n",
       "      <td>0.00</td>\n",
       "      <td>0.31</td>\n",
       "      <td>0.63</td>\n",
       "      <td>0.31</td>\n",
       "      <td>0.63</td>\n",
       "      <td>...</td>\n",
       "      <td>0.00</td>\n",
       "      <td>0.135</td>\n",
       "      <td>0.0</td>\n",
       "      <td>0.135</td>\n",
       "      <td>0.000</td>\n",
       "      <td>0.000</td>\n",
       "      <td>3.537</td>\n",
       "      <td>40</td>\n",
       "      <td>191</td>\n",
       "      <td>1</td>\n",
       "    </tr>\n",
       "    <tr>\n",
       "      <td>5</td>\n",
       "      <td>0.00</td>\n",
       "      <td>0.00</td>\n",
       "      <td>0.00</td>\n",
       "      <td>0.0</td>\n",
       "      <td>1.85</td>\n",
       "      <td>0.00</td>\n",
       "      <td>0.00</td>\n",
       "      <td>1.85</td>\n",
       "      <td>0.00</td>\n",
       "      <td>0.00</td>\n",
       "      <td>...</td>\n",
       "      <td>0.00</td>\n",
       "      <td>0.223</td>\n",
       "      <td>0.0</td>\n",
       "      <td>0.000</td>\n",
       "      <td>0.000</td>\n",
       "      <td>0.000</td>\n",
       "      <td>3.000</td>\n",
       "      <td>15</td>\n",
       "      <td>54</td>\n",
       "      <td>1</td>\n",
       "    </tr>\n",
       "  </tbody>\n",
       "</table>\n",
       "<p>6 rows × 58 columns</p>\n",
       "</div>"
      ],
      "text/plain": [
       "   word_freq_make  word_freq_address  word_freq_all  word_freq_3d  \\\n",
       "0            0.00               0.64           0.64           0.0   \n",
       "1            0.21               0.28           0.50           0.0   \n",
       "2            0.06               0.00           0.71           0.0   \n",
       "3            0.00               0.00           0.00           0.0   \n",
       "4            0.00               0.00           0.00           0.0   \n",
       "5            0.00               0.00           0.00           0.0   \n",
       "\n",
       "   word_freq_our  word_freq_over  word_freq_remove  word_freq_internet  \\\n",
       "0           0.32            0.00              0.00                0.00   \n",
       "1           0.14            0.28              0.21                0.07   \n",
       "2           1.23            0.19              0.19                0.12   \n",
       "3           0.63            0.00              0.31                0.63   \n",
       "4           0.63            0.00              0.31                0.63   \n",
       "5           1.85            0.00              0.00                1.85   \n",
       "\n",
       "   word_freq_order  word_freq_mail  ...  char_freq_;  char_freq_(  \\\n",
       "0             0.00            0.00  ...         0.00        0.000   \n",
       "1             0.00            0.94  ...         0.00        0.132   \n",
       "2             0.64            0.25  ...         0.01        0.143   \n",
       "3             0.31            0.63  ...         0.00        0.137   \n",
       "4             0.31            0.63  ...         0.00        0.135   \n",
       "5             0.00            0.00  ...         0.00        0.223   \n",
       "\n",
       "   char_freq_[  char_freq_!  char_freq_$  char_freq_#  \\\n",
       "0          0.0        0.778        0.000        0.000   \n",
       "1          0.0        0.372        0.180        0.048   \n",
       "2          0.0        0.276        0.184        0.010   \n",
       "3          0.0        0.137        0.000        0.000   \n",
       "4          0.0        0.135        0.000        0.000   \n",
       "5          0.0        0.000        0.000        0.000   \n",
       "\n",
       "   capital_run_length_average  capital_run_length_longest  \\\n",
       "0                       3.756                          61   \n",
       "1                       5.114                         101   \n",
       "2                       9.821                         485   \n",
       "3                       3.537                          40   \n",
       "4                       3.537                          40   \n",
       "5                       3.000                          15   \n",
       "\n",
       "   capital_run_length_total  spam  \n",
       "0                       278     1  \n",
       "1                      1028     1  \n",
       "2                      2259     1  \n",
       "3                       191     1  \n",
       "4                       191     1  \n",
       "5                        54     1  \n",
       "\n",
       "[6 rows x 58 columns]"
      ]
     },
     "execution_count": 13,
     "metadata": {},
     "output_type": "execute_result"
    }
   ],
   "source": [
    "import pandas as pd\n",
    "import numpy as np\n",
    "\n",
    "df = pd.read_csv('spam_dataset.csv')\n",
    "df.columns = df.columns.str.rstrip(':')  #Remove the colon\n",
    "df.head(6)"
   ]
  },
  {
   "cell_type": "markdown",
   "metadata": {},
   "source": [
    "## 2. Features Selection"
   ]
  },
  {
   "cell_type": "code",
   "execution_count": 14,
   "metadata": {
    "scrolled": true
   },
   "outputs": [
    {
     "data": {
      "text/plain": [
       "word_freq_make                0\n",
       "word_freq_address             0\n",
       "word_freq_all                 0\n",
       "word_freq_3d                  0\n",
       "word_freq_our                 0\n",
       "word_freq_over                0\n",
       "word_freq_remove              0\n",
       "word_freq_internet            0\n",
       "word_freq_order               0\n",
       "word_freq_mail                0\n",
       "word_freq_receive             0\n",
       "word_freq_will                0\n",
       "word_freq_people              0\n",
       "word_freq_report              0\n",
       "word_freq_addresses           0\n",
       "word_freq_free                0\n",
       "word_freq_business            0\n",
       "word_freq_email               0\n",
       "word_freq_you                 0\n",
       "word_freq_credit              0\n",
       "word_freq_your                0\n",
       "word_freq_font                0\n",
       "word_freq_000                 0\n",
       "word_freq_money               0\n",
       "word_freq_hp                  0\n",
       "word_freq_hpl                 0\n",
       "word_freq_george              0\n",
       "word_freq_650                 0\n",
       "word_freq_lab                 0\n",
       "word_freq_labs                0\n",
       "word_freq_telnet              0\n",
       "word_freq_857                 0\n",
       "word_freq_data                0\n",
       "word_freq_415                 0\n",
       "word_freq_85                  0\n",
       "word_freq_technology          0\n",
       "word_freq_1999                0\n",
       "word_freq_parts               0\n",
       "word_freq_pm                  0\n",
       "word_freq_direct              0\n",
       "word_freq_cs                  0\n",
       "word_freq_meeting             0\n",
       "word_freq_original            0\n",
       "word_freq_project             0\n",
       "word_freq_re                  0\n",
       "word_freq_edu                 0\n",
       "word_freq_table               0\n",
       "word_freq_conference          0\n",
       "char_freq_;                   0\n",
       "char_freq_(                   0\n",
       "char_freq_[                   0\n",
       "char_freq_!                   0\n",
       "char_freq_$                   0\n",
       "char_freq_#                   0\n",
       "capital_run_length_average    0\n",
       "capital_run_length_longest    0\n",
       "capital_run_length_total      0\n",
       "spam                          0\n",
       "dtype: int64"
      ]
     },
     "execution_count": 14,
     "metadata": {},
     "output_type": "execute_result"
    }
   ],
   "source": [
    "df.isna().sum() #Checking the Null value"
   ]
  },
  {
   "cell_type": "code",
   "execution_count": 15,
   "metadata": {},
   "outputs": [
    {
     "data": {
      "text/html": [
       "<div>\n",
       "<style scoped>\n",
       "    .dataframe tbody tr th:only-of-type {\n",
       "        vertical-align: middle;\n",
       "    }\n",
       "\n",
       "    .dataframe tbody tr th {\n",
       "        vertical-align: top;\n",
       "    }\n",
       "\n",
       "    .dataframe thead th {\n",
       "        text-align: right;\n",
       "    }\n",
       "</style>\n",
       "<table border=\"1\" class=\"dataframe\">\n",
       "  <thead>\n",
       "    <tr style=\"text-align: right;\">\n",
       "      <th></th>\n",
       "      <th>word_freq_make</th>\n",
       "      <th>word_freq_address</th>\n",
       "      <th>word_freq_all</th>\n",
       "      <th>word_freq_3d</th>\n",
       "      <th>word_freq_our</th>\n",
       "      <th>word_freq_over</th>\n",
       "      <th>word_freq_remove</th>\n",
       "      <th>word_freq_internet</th>\n",
       "      <th>word_freq_order</th>\n",
       "      <th>word_freq_mail</th>\n",
       "      <th>...</th>\n",
       "      <th>word_freq_conference</th>\n",
       "      <th>char_freq_;</th>\n",
       "      <th>char_freq_(</th>\n",
       "      <th>char_freq_[</th>\n",
       "      <th>char_freq_!</th>\n",
       "      <th>char_freq_$</th>\n",
       "      <th>char_freq_#</th>\n",
       "      <th>capital_run_length_average</th>\n",
       "      <th>capital_run_length_longest</th>\n",
       "      <th>capital_run_length_total</th>\n",
       "    </tr>\n",
       "  </thead>\n",
       "  <tbody>\n",
       "    <tr>\n",
       "      <td>0</td>\n",
       "      <td>0.00</td>\n",
       "      <td>0.64</td>\n",
       "      <td>0.64</td>\n",
       "      <td>0.0</td>\n",
       "      <td>0.32</td>\n",
       "      <td>0.00</td>\n",
       "      <td>0.00</td>\n",
       "      <td>0.00</td>\n",
       "      <td>0.00</td>\n",
       "      <td>0.00</td>\n",
       "      <td>...</td>\n",
       "      <td>0.0</td>\n",
       "      <td>0.00</td>\n",
       "      <td>0.000</td>\n",
       "      <td>0.0</td>\n",
       "      <td>0.778</td>\n",
       "      <td>0.000</td>\n",
       "      <td>0.000</td>\n",
       "      <td>3.756</td>\n",
       "      <td>61</td>\n",
       "      <td>278</td>\n",
       "    </tr>\n",
       "    <tr>\n",
       "      <td>1</td>\n",
       "      <td>0.21</td>\n",
       "      <td>0.28</td>\n",
       "      <td>0.50</td>\n",
       "      <td>0.0</td>\n",
       "      <td>0.14</td>\n",
       "      <td>0.28</td>\n",
       "      <td>0.21</td>\n",
       "      <td>0.07</td>\n",
       "      <td>0.00</td>\n",
       "      <td>0.94</td>\n",
       "      <td>...</td>\n",
       "      <td>0.0</td>\n",
       "      <td>0.00</td>\n",
       "      <td>0.132</td>\n",
       "      <td>0.0</td>\n",
       "      <td>0.372</td>\n",
       "      <td>0.180</td>\n",
       "      <td>0.048</td>\n",
       "      <td>5.114</td>\n",
       "      <td>101</td>\n",
       "      <td>1028</td>\n",
       "    </tr>\n",
       "    <tr>\n",
       "      <td>2</td>\n",
       "      <td>0.06</td>\n",
       "      <td>0.00</td>\n",
       "      <td>0.71</td>\n",
       "      <td>0.0</td>\n",
       "      <td>1.23</td>\n",
       "      <td>0.19</td>\n",
       "      <td>0.19</td>\n",
       "      <td>0.12</td>\n",
       "      <td>0.64</td>\n",
       "      <td>0.25</td>\n",
       "      <td>...</td>\n",
       "      <td>0.0</td>\n",
       "      <td>0.01</td>\n",
       "      <td>0.143</td>\n",
       "      <td>0.0</td>\n",
       "      <td>0.276</td>\n",
       "      <td>0.184</td>\n",
       "      <td>0.010</td>\n",
       "      <td>9.821</td>\n",
       "      <td>485</td>\n",
       "      <td>2259</td>\n",
       "    </tr>\n",
       "    <tr>\n",
       "      <td>3</td>\n",
       "      <td>0.00</td>\n",
       "      <td>0.00</td>\n",
       "      <td>0.00</td>\n",
       "      <td>0.0</td>\n",
       "      <td>0.63</td>\n",
       "      <td>0.00</td>\n",
       "      <td>0.31</td>\n",
       "      <td>0.63</td>\n",
       "      <td>0.31</td>\n",
       "      <td>0.63</td>\n",
       "      <td>...</td>\n",
       "      <td>0.0</td>\n",
       "      <td>0.00</td>\n",
       "      <td>0.137</td>\n",
       "      <td>0.0</td>\n",
       "      <td>0.137</td>\n",
       "      <td>0.000</td>\n",
       "      <td>0.000</td>\n",
       "      <td>3.537</td>\n",
       "      <td>40</td>\n",
       "      <td>191</td>\n",
       "    </tr>\n",
       "    <tr>\n",
       "      <td>4</td>\n",
       "      <td>0.00</td>\n",
       "      <td>0.00</td>\n",
       "      <td>0.00</td>\n",
       "      <td>0.0</td>\n",
       "      <td>0.63</td>\n",
       "      <td>0.00</td>\n",
       "      <td>0.31</td>\n",
       "      <td>0.63</td>\n",
       "      <td>0.31</td>\n",
       "      <td>0.63</td>\n",
       "      <td>...</td>\n",
       "      <td>0.0</td>\n",
       "      <td>0.00</td>\n",
       "      <td>0.135</td>\n",
       "      <td>0.0</td>\n",
       "      <td>0.135</td>\n",
       "      <td>0.000</td>\n",
       "      <td>0.000</td>\n",
       "      <td>3.537</td>\n",
       "      <td>40</td>\n",
       "      <td>191</td>\n",
       "    </tr>\n",
       "  </tbody>\n",
       "</table>\n",
       "<p>5 rows × 57 columns</p>\n",
       "</div>"
      ],
      "text/plain": [
       "   word_freq_make  word_freq_address  word_freq_all  word_freq_3d  \\\n",
       "0            0.00               0.64           0.64           0.0   \n",
       "1            0.21               0.28           0.50           0.0   \n",
       "2            0.06               0.00           0.71           0.0   \n",
       "3            0.00               0.00           0.00           0.0   \n",
       "4            0.00               0.00           0.00           0.0   \n",
       "\n",
       "   word_freq_our  word_freq_over  word_freq_remove  word_freq_internet  \\\n",
       "0           0.32            0.00              0.00                0.00   \n",
       "1           0.14            0.28              0.21                0.07   \n",
       "2           1.23            0.19              0.19                0.12   \n",
       "3           0.63            0.00              0.31                0.63   \n",
       "4           0.63            0.00              0.31                0.63   \n",
       "\n",
       "   word_freq_order  word_freq_mail  ...  word_freq_conference  char_freq_;  \\\n",
       "0             0.00            0.00  ...                   0.0         0.00   \n",
       "1             0.00            0.94  ...                   0.0         0.00   \n",
       "2             0.64            0.25  ...                   0.0         0.01   \n",
       "3             0.31            0.63  ...                   0.0         0.00   \n",
       "4             0.31            0.63  ...                   0.0         0.00   \n",
       "\n",
       "   char_freq_(  char_freq_[  char_freq_!  char_freq_$  char_freq_#  \\\n",
       "0        0.000          0.0        0.778        0.000        0.000   \n",
       "1        0.132          0.0        0.372        0.180        0.048   \n",
       "2        0.143          0.0        0.276        0.184        0.010   \n",
       "3        0.137          0.0        0.137        0.000        0.000   \n",
       "4        0.135          0.0        0.135        0.000        0.000   \n",
       "\n",
       "   capital_run_length_average  capital_run_length_longest  \\\n",
       "0                       3.756                          61   \n",
       "1                       5.114                         101   \n",
       "2                       9.821                         485   \n",
       "3                       3.537                          40   \n",
       "4                       3.537                          40   \n",
       "\n",
       "   capital_run_length_total  \n",
       "0                       278  \n",
       "1                      1028  \n",
       "2                      2259  \n",
       "3                       191  \n",
       "4                       191  \n",
       "\n",
       "[5 rows x 57 columns]"
      ]
     },
     "execution_count": 15,
     "metadata": {},
     "output_type": "execute_result"
    }
   ],
   "source": [
    "from sklearn.model_selection import train_test_split\n",
    "\n",
    "y = df['spam'] \n",
    "x = df.loc[:, df.columns != 'spam'] \n",
    "\n",
    "x_train, x_test, y_train, y_test = train_test_split(x, y, random_state=42) \n",
    "\n",
    "x.head()"
   ]
  },
  {
   "cell_type": "code",
   "execution_count": 16,
   "metadata": {},
   "outputs": [
    {
     "data": {
      "text/plain": [
       "word_freq_your                791.726012\n",
       "word_freq_000                 580.534452\n",
       "word_freq_remove              570.169634\n",
       "char_freq_$                   538.029935\n",
       "word_freq_you                 372.273985\n",
       "word_freq_free                342.346240\n",
       "word_freq_business            342.316290\n",
       "word_freq_hp                  324.490814\n",
       "capital_run_length_total      304.417709\n",
       "word_freq_our                 285.890659\n",
       "char_freq_!                   285.810155\n",
       "word_freq_receive             267.687159\n",
       "word_freq_hpl                 263.930408\n",
       "word_freq_over                263.060625\n",
       "word_freq_order               260.549947\n",
       "word_freq_money               225.314579\n",
       "capital_run_length_longest    225.283327\n",
       "word_freq_internet            205.486673\n",
       "word_freq_email               200.128275\n",
       "word_freq_all                 185.665407\n",
       "word_freq_addresses           183.543361\n",
       "word_freq_credit              171.792881\n",
       "word_freq_george              160.081358\n",
       "word_freq_1999                150.561998\n",
       "word_freq_labs                138.688037\n",
       "word_freq_650                 118.975641\n",
       "word_freq_85                  104.743740\n",
       "word_freq_edu                 100.361296\n",
       "word_freq_re                   92.490564\n",
       "word_freq_mail                 90.557555\n",
       "word_freq_meeting              87.467096\n",
       "word_freq_technology           86.840440\n",
       "word_freq_original             86.230721\n",
       "word_freq_lab                  83.481346\n",
       "word_freq_people               82.723786\n",
       "word_freq_telnet               75.287324\n",
       "word_freq_make                 74.440200\n",
       "word_freq_pm                   70.449713\n",
       "word_freq_data                 67.114819\n",
       "word_freq_857                  60.786190\n",
       "word_freq_415                  59.222339\n",
       "capital_run_length_average     56.328599\n",
       "word_freq_cs                   44.024499\n",
       "word_freq_project              41.523557\n",
       "word_freq_font                 39.137894\n",
       "char_freq_(                    37.280630\n",
       "word_freq_conference           32.696662\n",
       "char_freq_#                    19.553474\n",
       "word_freq_direct               19.393539\n",
       "char_freq_[                    19.338360\n",
       "word_freq_report               16.631406\n",
       "char_freq_;                    16.411004\n",
       "word_freq_3d                   15.187489\n",
       "word_freq_table                 9.198767\n",
       "word_freq_parts                 4.433978\n",
       "word_freq_address               4.204865\n",
       "word_freq_will                  0.275584\n",
       "dtype: float64"
      ]
     },
     "execution_count": 16,
     "metadata": {},
     "output_type": "execute_result"
    }
   ],
   "source": [
    "from sklearn.feature_selection import f_classif\n",
    "from sklearn.feature_selection import SelectKBest\n",
    "\n",
    "test = SelectKBest(score_func = f_classif)\n",
    "fit = test.fit(x, y)\n",
    "\n",
    "p_value = pd.Series(fit.scores_, index = x.columns)\n",
    "p_value.sort_values(ascending = False, inplace = True)\n",
    "p_value"
   ]
  },
  {
   "cell_type": "markdown",
   "metadata": {},
   "source": [
    "The three most important variables are 'word_freq_your', 'word_freq_000', 'word_freq_remove'. \n",
    "\n",
    "SelectKBest is a function that provide the most significant features from the dataset. Adopting ANOVA test, for numerical input and categorical output, could generate the f score for each variable. The higher the score is, the lower the p-value is, which means these features showcase a strong association between them and the target. \n",
    "\n",
    " "
   ]
  },
  {
   "cell_type": "markdown",
   "metadata": {},
   "source": [
    "## 3.  Visualize the univariate distribution of each of the variables  \n",
    "\n"
   ]
  },
  {
   "cell_type": "code",
   "execution_count": 18,
   "metadata": {},
   "outputs": [
    {
     "data": {
      "text/plain": [
       "<matplotlib.axes._subplots.AxesSubplot at 0x1a1fd5ba50>"
      ]
     },
     "execution_count": 18,
     "metadata": {},
     "output_type": "execute_result"
    },
    {
     "data": {
      "image/png": "[encoded data removed]",
      "text/plain": [
       "<Figure size 432x288 with 1 Axes>"
      ]
     },
     "metadata": {
      "needs_background": "light"
     },
     "output_type": "display_data"
    }
   ],
   "source": [
    "import matplotlib.pyplot as plt\n",
    "import seaborn as sns\n",
    "\n",
    "sns.boxplot(x='spam', y='word_freq_your', data=df)"
   ]
  },
  {
   "cell_type": "code",
   "execution_count": 19,
   "metadata": {},
   "outputs": [
    {
     "data": {
      "text/plain": [
       "<matplotlib.axes._subplots.AxesSubplot at 0x1a1fe34bd0>"
      ]
     },
     "execution_count": 19,
     "metadata": {},
     "output_type": "execute_result"
    },
    {
     "data": {
      "image/png": "[encoded data removed]",
      "text/plain": [
       "<Figure size 432x288 with 1 Axes>"
      ]
     },
     "metadata": {
      "needs_background": "light"
     },
     "output_type": "display_data"
    }
   ],
   "source": [
    "sns.boxplot(x='spam', y='word_freq_000', data=df)"
   ]
  },
  {
   "cell_type": "code",
   "execution_count": 20,
   "metadata": {},
   "outputs": [
    {
     "data": {
      "text/plain": [
       "<matplotlib.axes._subplots.AxesSubplot at 0x1a1ff62690>"
      ]
     },
     "execution_count": 20,
     "metadata": {},
     "output_type": "execute_result"
    },
    {
     "data": {
      "image/png": "[encoded data removed]",
      "text/plain": [
       "<Figure size 432x288 with 1 Axes>"
      ]
     },
     "metadata": {
      "needs_background": "light"
     },
     "output_type": "display_data"
    }
   ],
   "source": [
    "sns.boxplot(x='spam', y='word_freq_remove', data=df)"
   ]
  },
  {
   "cell_type": "markdown",
   "metadata": {},
   "source": [
    "## 4. Models\n"
   ]
  },
  {
   "cell_type": "code",
   "execution_count": 21,
   "metadata": {},
   "outputs": [],
   "source": [
    "from sklearn.model_selection import KFold\n",
    "from sklearn.model_selection import cross_val_score\n",
    "from sklearn.pipeline import make_pipeline\n",
    "from sklearn.model_selection import GridSearchCV\n",
    "from sklearn.preprocessing import StandardScaler\n",
    "\n",
    "kfold = KFold(n_splits=5)"
   ]
  },
  {
   "cell_type": "code",
   "execution_count": 22,
   "metadata": {},
   "outputs": [],
   "source": [
    "from sklearn.model_selection import train_test_split\n",
    "\n",
    "y = df['spam'] \n",
    "X = df.loc[:, ['word_freq_your', 'word_freq_000', 'word_freq_remove']]\n",
    "\n",
    "X_train, X_test, y_train, y_test = train_test_split(X, y, random_state=42) "
   ]
  },
  {
   "cell_type": "code",
   "execution_count": 23,
   "metadata": {},
   "outputs": [],
   "source": [
    "from sklearn import preprocessing\n",
    "\n",
    "# Scaling Data\n",
    "scaler = preprocessing.StandardScaler().fit(X_train)\n",
    "X_train_scaled = scaler.transform(X_train)\n",
    "X_test_scaled = scaler.transform(X_test)"
   ]
  },
  {
   "cell_type": "markdown",
   "metadata": {},
   "source": [
    "### 4.1 Logistic Regression"
   ]
  },
  {
   "cell_type": "code",
   "execution_count": 24,
   "metadata": {},
   "outputs": [
    {
     "name": "stdout",
     "output_type": "stream",
     "text": [
      "LOGISTIC REGRESSION (UNSCALED DATA)\n",
      "Training set score: 0.82\n",
      "Test set score: 0.80\n",
      "Mean Cross Validation, KFold: 0.82\n"
     ]
    }
   ],
   "source": [
    "import warnings\n",
    "warnings.filterwarnings(\"ignore\", category=FutureWarning) \n",
    "from sklearn.linear_model import LogisticRegression\n",
    "\n",
    "logreg = LogisticRegression().fit(X_train, y_train)\n",
    "\n",
    "print(\"LOGISTIC REGRESSION (UNSCALED DATA)\")\n",
    "print(\"Training set score: {:.2f}\".format(logreg.score(X_train, y_train)))\n",
    "print(\"Test set score: {:.2f}\".format(logreg.score(X_test, y_test)))\n",
    "\n",
    "# Kfold Cross Validation\n",
    "print(\"Mean Cross Validation, KFold: {:.2f}\".format(np.mean(cross_val_score(logreg, X_train, y_train, cv=kfold))))"
   ]
  },
  {
   "cell_type": "code",
   "execution_count": 25,
   "metadata": {},
   "outputs": [
    {
     "name": "stdout",
     "output_type": "stream",
     "text": [
      "LOGISTIC REGRESSION (SCALED DATA)\n",
      "Training set score: 0.82\n",
      "Test set score: 0.80\n",
      "Mean Cross Validation, KFold: 0.82\n"
     ]
    }
   ],
   "source": [
    "logreg_scaled = LogisticRegression().fit(X_train_scaled, y_train)\n",
    "\n",
    "print(\"LOGISTIC REGRESSION (SCALED DATA)\")\n",
    "print(\"Training set score: {:.2f}\".format(logreg_scaled.score(X_train_scaled, y_train)))\n",
    "print(\"Test set score: {:.2f}\".format(logreg_scaled.score(X_test_scaled, y_test)))\n",
    "\n",
    "# Kfold Cross Validation\n",
    "print(\"Mean Cross Validation, KFold: {:.2f}\".format(np.mean(cross_val_score(logreg_scaled, X_train_scaled, y_train, cv=kfold))))"
   ]
  },
  {
   "cell_type": "markdown",
   "metadata": {},
   "source": [
    "### Logistic Regression GridSearchCV"
   ]
  },
  {
   "cell_type": "code",
   "execution_count": 26,
   "metadata": {},
   "outputs": [
    {
     "name": "stdout",
     "output_type": "stream",
     "text": [
      "LOGISTIC REGRESSION (SCALED DATA)\n",
      "best mean cross-validation score: 0.820\n",
      "Test set Score: 0.80\n",
      "Best Parameter: {'logisticregression__C': 1.0}\n"
     ]
    }
   ],
   "source": [
    "logreg_pipe = make_pipeline(StandardScaler(), LogisticRegression())\n",
    "#print(logreg_pipe.steps) \n",
    "# Name of step = 'logisticregression' + __ + C\n",
    "\n",
    "logreg_param_grid = {'logisticregression__C': np.linspace(1, 100, 100)}\n",
    "logreg_grid = GridSearchCV(logreg_pipe, logreg_param_grid).fit(X_train_scaled, y_train)\n",
    "\n",
    "print(\"LOGISTIC REGRESSION (SCALED DATA)\")\n",
    "print(\"best mean cross-validation score: {:.3f}\".format(logreg_grid.best_score_))\n",
    "print(\"Test set Score: {:.2f}\".format(logreg_grid.score(X_test_scaled, y_test)))\n",
    "print(\"Best Parameter: {}\".format(logreg_grid.best_params_))"
   ]
  },
  {
   "cell_type": "markdown",
   "metadata": {},
   "source": [
    "The best parameter is C = 1.0"
   ]
  },
  {
   "cell_type": "markdown",
   "metadata": {},
   "source": [
    "### 4.2 K-Nearest Neighbors\n"
   ]
  },
  {
   "cell_type": "code",
   "execution_count": 27,
   "metadata": {},
   "outputs": [
    {
     "name": "stdout",
     "output_type": "stream",
     "text": [
      "KNN CLASSIFER (UNSCALED DATA)\n",
      "Training set score: 0.86\n",
      "Test set score: 0.80\n",
      "Mean Cross Validation, KFold: 0.82\n"
     ]
    }
   ],
   "source": [
    "from sklearn.neighbors import KNeighborsClassifier\n",
    "\n",
    "knn = KNeighborsClassifier(n_neighbors = 3).fit(X_train, y_train)\n",
    "\n",
    "print(\"KNN CLASSIFER (UNSCALED DATA)\")\n",
    "print(\"Training set score: {:.2f}\".format(knn.score(X_train, y_train)))\n",
    "print(\"Test set score: {:.2f}\".format(knn.score(X_test, y_test)))\n",
    "\n",
    "# Kfold Cross Validation\n",
    "print(\"Mean Cross Validation, KFold: {:.2f}\".format(np.mean(cross_val_score(knn, X_train, y_train, cv=kfold))))"
   ]
  },
  {
   "cell_type": "code",
   "execution_count": 28,
   "metadata": {},
   "outputs": [
    {
     "name": "stdout",
     "output_type": "stream",
     "text": [
      "KNN CLASSIFER (SCALED DATA)\n",
      "Training set score: 0.87\n",
      "Test set score: 0.81\n",
      "Mean Cross Validation, KFold: 0.82\n"
     ]
    }
   ],
   "source": [
    "knn_scaled = KNeighborsClassifier(n_neighbors = 3).fit(X_train_scaled, y_train)\n",
    "\n",
    "print(\"KNN CLASSIFER (SCALED DATA)\")\n",
    "print(\"Training set score: {:.2f}\".format(knn_scaled.score(X_train_scaled, y_train)))\n",
    "print(\"Test set score: {:.2f}\".format(knn_scaled.score(X_test_scaled, y_test)))\n",
    "\n",
    "# Kfold Cross Validation\n",
    "print(\"Mean Cross Validation, KFold: {:.2f}\".format(np.mean(cross_val_score(knn_scaled, X_train_scaled, y_train, cv=kfold))))"
   ]
  },
  {
   "cell_type": "markdown",
   "metadata": {},
   "source": [
    "### KNN GridSearchCV"
   ]
  },
  {
   "cell_type": "code",
   "execution_count": 29,
   "metadata": {},
   "outputs": [
    {
     "name": "stdout",
     "output_type": "stream",
     "text": [
      "KNN CLASSIFER (SCALED DATA)\n",
      "best mean cross-validation score: 0.829\n",
      "Test set Score: 0.81\n",
      "Best Parameter: {'kneighborsclassifier__n_neighbors': 8}\n"
     ]
    }
   ],
   "source": [
    "knn_pipe = make_pipeline(StandardScaler(), KNeighborsClassifier())\n",
    "\n",
    "knn_param_grid = {'kneighborsclassifier__n_neighbors': range(1, 10)}\n",
    "knn_grid = GridSearchCV(knn_pipe, knn_param_grid).fit(X_train_scaled, y_train)\n",
    "\n",
    "print(\"KNN CLASSIFER (SCALED DATA)\")\n",
    "print(\"best mean cross-validation score: {:.3f}\".format(knn_grid.best_score_))\n",
    "print(\"Test set Score: {:.2f}\".format(knn_grid.score(X_test_scaled, y_test)))\n",
    "print(\"Best Parameter: {}\".format(knn_grid.best_params_))"
   ]
  },
  {
   "cell_type": "markdown",
   "metadata": {},
   "source": [
    "The best parameter is n_neighbors = 8. KNN predicts the test set better than Logistic Regression."
   ]
  },
  {
   "cell_type": "markdown",
   "metadata": {},
   "source": [
    "### 4.3 Support Vector Machine\n",
    "\n"
   ]
  },
  {
   "cell_type": "code",
   "execution_count": 30,
   "metadata": {},
   "outputs": [
    {
     "name": "stdout",
     "output_type": "stream",
     "text": [
      "SVC(UNSCALED DATA)\n",
      "Training set score: 0.83\n",
      "Test set score: 0.81\n",
      "Mean Cross Validation, KFold: 0.82\n"
     ]
    }
   ],
   "source": [
    "from sklearn.svm import SVC\n",
    "\n",
    "svc = SVC().fit(X_train, y_train)\n",
    "\n",
    "print(\"SVC(UNSCALED DATA)\")\n",
    "print(\"Training set score: {:.2f}\".format(svc.score(X_train, y_train)))\n",
    "print(\"Test set score: {:.2f}\".format(svc.score(X_test, y_test)))\n",
    "\n",
    "# Kfold Cross Validation\n",
    "print(\"Mean Cross Validation, KFold: {:.2f}\".format(np.mean(cross_val_score(svc, X_train, y_train, cv=kfold))))"
   ]
  },
  {
   "cell_type": "code",
   "execution_count": 31,
   "metadata": {},
   "outputs": [
    {
     "name": "stdout",
     "output_type": "stream",
     "text": [
      "SVC(SCALED DATA)\n",
      "Training set score: 0.83\n",
      "Test set score: 0.81\n",
      "Mean Cross Validation, KFold: 0.83\n"
     ]
    }
   ],
   "source": [
    "svc_scaled = SVC().fit(X_train_scaled, y_train)\n",
    "\n",
    "print(\"SVC(SCALED DATA)\")\n",
    "print(\"Training set score: {:.2f}\".format(svc_scaled.score(X_train_scaled, y_train)))\n",
    "print(\"Test set score: {:.2f}\".format(svc_scaled.score(X_test_scaled, y_test)))\n",
    "\n",
    "# Kfold Cross Validation\n",
    "print(\"Mean Cross Validation, KFold: {:.2f}\".format(np.mean(cross_val_score(svc_scaled, X_train_scaled, y_train, cv=kfold))))"
   ]
  },
  {
   "cell_type": "markdown",
   "metadata": {},
   "source": [
    "### SVC GridSearchCV"
   ]
  },
  {
   "cell_type": "code",
   "execution_count": 32,
   "metadata": {},
   "outputs": [],
   "source": [
    "from sklearn.decomposition import PCA\n",
    "from sklearn.pipeline import make_pipeline\n",
    "\n",
    "pca = PCA(svd_solver='randomized',n_components=3, whiten=True, random_state=42)\n",
    "svc = SVC(kernel='rbf', class_weight='balanced')\n",
    "model = make_pipeline(pca, svc)"
   ]
  },
  {
   "cell_type": "code",
   "execution_count": 33,
   "metadata": {},
   "outputs": [
    {
     "name": "stdout",
     "output_type": "stream",
     "text": [
      "SVC (SCALED DATA)\n",
      "best mean cross-validation score: 0.821\n",
      "Test set Score: 0.81\n",
      "Best Parameter: {'svc__C': 50, 'svc__gamma': 0.0005}\n"
     ]
    }
   ],
   "source": [
    "svc_pipe = make_pipeline(StandardScaler(), pca, svc)\n",
    "\n",
    "svc_param_grid = {'svc__C': [1, 5, 10, 50],\n",
    "              'svc__gamma': [0.0001, 0.0005, 0.001, 0.005]}\n",
    "svc_grid = GridSearchCV(svc_pipe, svc_param_grid).fit(X_train_scaled, y_train)\n",
    "\n",
    "print(\"SVC (SCALED DATA)\")\n",
    "print(\"best mean cross-validation score: {:.3f}\".format(svc_grid.best_score_))\n",
    "print(\"Test set Score: {:.2f}\".format(svc_grid.score(X_test_scaled, y_test)))\n",
    "print(\"Best Parameter: {}\".format(svc_grid.best_params_))"
   ]
  },
  {
   "cell_type": "markdown",
   "metadata": {},
   "source": [
    "The best parameter is C = 10 and gamma = 0.005"
   ]
  },
  {
   "cell_type": "markdown",
   "metadata": {},
   "source": [
    "### 4.4 Random Forest\n"
   ]
  },
  {
   "cell_type": "code",
   "execution_count": 34,
   "metadata": {},
   "outputs": [
    {
     "name": "stdout",
     "output_type": "stream",
     "text": [
      "RANDOM FOREST CLASSIFER (UNSCALED DATA)\n",
      "Training set score: 0.89\n",
      "Test set score: 0.82\n",
      "Mean Cross Validation, KFold: 0.82\n"
     ]
    }
   ],
   "source": [
    "from sklearn.ensemble import RandomForestClassifier\n",
    "\n",
    "forest = RandomForestClassifier(n_estimators=100).fit(X_train, y_train)\n",
    "\n",
    "print(\"RANDOM FOREST CLASSIFER (UNSCALED DATA)\")\n",
    "print(\"Training set score: {:.2f}\".format(forest.score(X_train, y_train)))\n",
    "print(\"Test set score: {:.2f}\".format(forest.score(X_test, y_test)))\n",
    "\n",
    "# Kfold Cross Validation\n",
    "print(\"Mean Cross Validation, KFold: {:.2f}\".format(np.mean(cross_val_score(forest, X_train, y_train, cv=kfold))))"
   ]
  },
  {
   "cell_type": "code",
   "execution_count": 35,
   "metadata": {},
   "outputs": [
    {
     "name": "stdout",
     "output_type": "stream",
     "text": [
      "RANDOM FOREST CLASSIFER (SCALED DATA)\n",
      "Training set score: 0.89\n",
      "Test set score: 0.82\n",
      "Mean Cross Validation, KFold: 0.82\n"
     ]
    }
   ],
   "source": [
    "forest_scaled = RandomForestClassifier(n_estimators=100).fit(X_train_scaled, y_train)\n",
    "\n",
    "print(\"RANDOM FOREST CLASSIFER (SCALED DATA)\")\n",
    "print(\"Training set score: {:.2f}\".format(forest_scaled.score(X_train_scaled, y_train)))\n",
    "print(\"Test set score: {:.2f}\".format(forest_scaled.score(X_test_scaled, y_test)))\n",
    "\n",
    "# Kfold Cross Validation\n",
    "print(\"Mean Cross Validation, KFold: {:.2f}\".format(np.mean(cross_val_score(forest, X_train_scaled, y_train, cv=kfold))))"
   ]
  },
  {
   "cell_type": "markdown",
   "metadata": {},
   "source": [
    "### Random Forest GridSearchCV"
   ]
  },
  {
   "cell_type": "code",
   "execution_count": 36,
   "metadata": {},
   "outputs": [
    {
     "name": "stdout",
     "output_type": "stream",
     "text": [
      "RANDOM FOREST CLASSIFER (SCALED DATA)\n",
      "best mean cross-validation score: 0.829\n",
      "Test set Score: 0.82\n",
      "Best Parameter: {'randomforestclassifier__n_estimators': 55}\n"
     ]
    }
   ],
   "source": [
    "forest_pipe = make_pipeline(StandardScaler(), RandomForestClassifier())\n",
    "\n",
    "forest_param_grid = {'randomforestclassifier__n_estimators': range(10, 100)}\n",
    "forest_grid = GridSearchCV(forest_pipe, forest_param_grid).fit(X_train_scaled, y_train)\n",
    "\n",
    "print(\"RANDOM FOREST CLASSIFER (SCALED DATA)\")\n",
    "print(\"best mean cross-validation score: {:.3f}\".format(forest_grid.best_score_))\n",
    "print(\"Test set Score: {:.2f}\".format(forest_grid.score(X_test_scaled, y_test)))\n",
    "print(\"Best Parameter: {}\".format(forest_grid.best_params_))"
   ]
  },
  {
   "cell_type": "markdown",
   "metadata": {},
   "source": [
    "## 5. Best Model\n"
   ]
  },
  {
   "cell_type": "markdown",
   "metadata": {},
   "source": [
    "### Test Set Score"
   ]
  },
  {
   "cell_type": "code",
   "execution_count": 37,
   "metadata": {},
   "outputs": [
    {
     "name": "stdout",
     "output_type": "stream",
     "text": [
      "LOGISTIC REGRESSION\n",
      "Before Gridsearch: 0.80\n",
      "After Gridsearch: 0.80\n",
      "\n",
      "KNN CLASSIFIER\n",
      "Before Gridsearch: 0.81\n",
      "After Gridsearch: 0.81\n",
      "\n",
      "SUPPORT VECTOR MACHINE\n",
      "Before Gridsearch: 0.81\n",
      "After Gridsearch: 0.81\n",
      "\n",
      "RANDOM FOREST CLASSIFIER\n",
      "Before Gridsearch: 0.82\n",
      "After Gridsearch: 0.82\n"
     ]
    }
   ],
   "source": [
    "print(\"LOGISTIC REGRESSION\")\n",
    "print(\"Before Gridsearch: {:.2f}\".format(logreg_scaled.score(X_test_scaled, y_test)))\n",
    "print(\"After Gridsearch: {:.2f}\".format(logreg_grid.score(X_test_scaled, y_test)))\n",
    "print(\"\")\n",
    "print(\"KNN CLASSIFIER\")\n",
    "print(\"Before Gridsearch: {:.2f}\".format(knn_scaled.score(X_test_scaled, y_test)))\n",
    "print(\"After Gridsearch: {:.2f}\".format(knn_grid.score(X_test_scaled, y_test)))\n",
    "print(\"\")\n",
    "print(\"SUPPORT VECTOR MACHINE\")\n",
    "print(\"Before Gridsearch: {:.2f}\".format(svc_scaled.score(X_test_scaled, y_test)))\n",
    "print(\"After Gridsearch: {:.2f}\".format(svc_grid.score(X_test_scaled, y_test)))\n",
    "print(\"\")\n",
    "print(\"RANDOM FOREST CLASSIFIER\")\n",
    "print(\"Before Gridsearch: {:.2f}\".format(forest_scaled.score(X_test_scaled, y_test)))\n",
    "print(\"After Gridsearch: {:.2f}\".format(forest_grid.score(X_test_scaled, y_test)))"
   ]
  },
  {
   "cell_type": "markdown",
   "metadata": {},
   "source": [
    "Random Forest is the best model"
   ]
  },
  {
   "cell_type": "markdown",
   "metadata": {},
   "source": [
    "## 6. New Dataframe with Three More Important Features"
   ]
  },
  {
   "cell_type": "code",
   "execution_count": 38,
   "metadata": {},
   "outputs": [
    {
     "data": {
      "text/html": [
       "<div>\n",
       "<style scoped>\n",
       "    .dataframe tbody tr th:only-of-type {\n",
       "        vertical-align: middle;\n",
       "    }\n",
       "\n",
       "    .dataframe tbody tr th {\n",
       "        vertical-align: top;\n",
       "    }\n",
       "\n",
       "    .dataframe thead th {\n",
       "        text-align: right;\n",
       "    }\n",
       "</style>\n",
       "<table border=\"1\" class=\"dataframe\">\n",
       "  <thead>\n",
       "    <tr style=\"text-align: right;\">\n",
       "      <th></th>\n",
       "      <th>word_freq_your</th>\n",
       "      <th>word_freq_000</th>\n",
       "      <th>word_freq_remove</th>\n",
       "      <th>char_freq_$</th>\n",
       "      <th>word_freq_you</th>\n",
       "      <th>word_freq_free</th>\n",
       "    </tr>\n",
       "  </thead>\n",
       "  <tbody>\n",
       "    <tr>\n",
       "      <td>0</td>\n",
       "      <td>0.96</td>\n",
       "      <td>0.00</td>\n",
       "      <td>0.00</td>\n",
       "      <td>0.000</td>\n",
       "      <td>1.93</td>\n",
       "      <td>0.32</td>\n",
       "    </tr>\n",
       "    <tr>\n",
       "      <td>1</td>\n",
       "      <td>1.59</td>\n",
       "      <td>0.43</td>\n",
       "      <td>0.21</td>\n",
       "      <td>0.180</td>\n",
       "      <td>3.47</td>\n",
       "      <td>0.14</td>\n",
       "    </tr>\n",
       "    <tr>\n",
       "      <td>2</td>\n",
       "      <td>0.51</td>\n",
       "      <td>1.16</td>\n",
       "      <td>0.19</td>\n",
       "      <td>0.184</td>\n",
       "      <td>1.36</td>\n",
       "      <td>0.06</td>\n",
       "    </tr>\n",
       "    <tr>\n",
       "      <td>3</td>\n",
       "      <td>0.31</td>\n",
       "      <td>0.00</td>\n",
       "      <td>0.31</td>\n",
       "      <td>0.000</td>\n",
       "      <td>3.18</td>\n",
       "      <td>0.31</td>\n",
       "    </tr>\n",
       "    <tr>\n",
       "      <td>4</td>\n",
       "      <td>0.31</td>\n",
       "      <td>0.00</td>\n",
       "      <td>0.31</td>\n",
       "      <td>0.000</td>\n",
       "      <td>3.18</td>\n",
       "      <td>0.31</td>\n",
       "    </tr>\n",
       "  </tbody>\n",
       "</table>\n",
       "</div>"
      ],
      "text/plain": [
       "   word_freq_your  word_freq_000  word_freq_remove  char_freq_$  \\\n",
       "0            0.96           0.00              0.00        0.000   \n",
       "1            1.59           0.43              0.21        0.180   \n",
       "2            0.51           1.16              0.19        0.184   \n",
       "3            0.31           0.00              0.31        0.000   \n",
       "4            0.31           0.00              0.31        0.000   \n",
       "\n",
       "   word_freq_you  word_freq_free  \n",
       "0           1.93            0.32  \n",
       "1           3.47            0.14  \n",
       "2           1.36            0.06  \n",
       "3           3.18            0.31  \n",
       "4           3.18            0.31  "
      ]
     },
     "execution_count": 38,
     "metadata": {},
     "output_type": "execute_result"
    }
   ],
   "source": [
    "X1 = df.loc[:, ['word_freq_your', 'word_freq_000', 'word_freq_remove', 'char_freq_$', 'word_freq_you', 'word_freq_free']]\n",
    "\n",
    "X1_train, X1_test, y_train, y_test = train_test_split(X1, y, random_state=42) \n",
    "\n",
    "X1.head() "
   ]
  },
  {
   "cell_type": "code",
   "execution_count": 39,
   "metadata": {},
   "outputs": [],
   "source": [
    "# Scaling Data\n",
    "scaler_new = preprocessing.StandardScaler().fit(X1_train)\n",
    "X1_train_scaled = scaler_new.transform(X1_train)\n",
    "X1_test_scaled = scaler_new.transform(X1_test)"
   ]
  },
  {
   "cell_type": "code",
   "execution_count": 41,
   "metadata": {},
   "outputs": [
    {
     "name": "stdout",
     "output_type": "stream",
     "text": [
      "LOGISTIC REGRESSION (SCALED DATA)\n",
      "best mean cross-validation score: 0.855\n",
      "Test set Score: 0.85\n",
      "Best Parameter: {'logisticregression__C': 51.0}\n"
     ]
    }
   ],
   "source": [
    "logreg1_pipe = make_pipeline(StandardScaler(), LogisticRegression()) \n",
    "#print(logreg_pipe.steps) \n",
    "# Name of step = 'logisticregression' + __ + C\n",
    "\n",
    "logreg1_param_grid = {'logisticregression__C': np.linspace(1, 100, 100)}\n",
    "logreg1_grid = GridSearchCV(logreg1_pipe, logreg1_param_grid).fit(X1_train_scaled, y_train)\n",
    "\n",
    "print(\"LOGISTIC REGRESSION (SCALED DATA)\")\n",
    "print(\"best mean cross-validation score: {:.3f}\".format(logreg1_grid.best_score_))\n",
    "print(\"Test set Score: {:.2f}\".format(logreg1_grid.score(X1_test_scaled, y_test)))\n",
    "print(\"Best Parameter: {}\".format(logreg1_grid.best_params_))"
   ]
  },
  {
   "cell_type": "code",
   "execution_count": 42,
   "metadata": {},
   "outputs": [
    {
     "name": "stdout",
     "output_type": "stream",
     "text": [
      "KNN CLASSIFER (SCALED DATA)\n",
      "best mean cross-validation score: 0.876\n",
      "Test set Score: 0.87\n",
      "Best Parameter: {'kneighborsclassifier__n_neighbors': 7}\n"
     ]
    }
   ],
   "source": [
    "knn1_pipe = make_pipeline(StandardScaler(), KNeighborsClassifier())\n",
    "\n",
    "knn1_param_grid = {'kneighborsclassifier__n_neighbors': range(1, 10)}\n",
    "knn1_grid = GridSearchCV(knn1_pipe, knn1_param_grid).fit(X1_train_scaled, y_train)\n",
    "\n",
    "print(\"KNN CLASSIFER (SCALED DATA)\")\n",
    "print(\"best mean cross-validation score: {:.3f}\".format(knn1_grid.best_score_))\n",
    "print(\"Test set Score: {:.2f}\".format(knn1_grid.score(X1_test_scaled, y_test)))\n",
    "print(\"Best Parameter: {}\".format(knn1_grid.best_params_))"
   ]
  },
  {
   "cell_type": "code",
   "execution_count": 43,
   "metadata": {},
   "outputs": [
    {
     "name": "stdout",
     "output_type": "stream",
     "text": [
      "SVC (SCALED DATA)\n",
      "best mean cross-validation score: 0.866\n",
      "Test set Score: 0.86\n",
      "Best Parameter: {'svc__C': 50, 'svc__gamma': 0.005}\n"
     ]
    }
   ],
   "source": [
    "svc1_pipe = make_pipeline(StandardScaler(), pca, svc)\n",
    "\n",
    "svc1_param_grid = {'svc__C': [1, 5, 10, 50],\n",
    "              'svc__gamma': [0.0001, 0.0005, 0.001, 0.005]}\n",
    "svc1_grid = GridSearchCV(svc1_pipe, svc1_param_grid).fit(X1_train_scaled, y_train)\n",
    "\n",
    "print(\"SVC (SCALED DATA)\")\n",
    "print(\"best mean cross-validation score: {:.3f}\".format(svc1_grid.best_score_))\n",
    "print(\"Test set Score: {:.2f}\".format(svc1_grid.score(X1_test_scaled, y_test)))\n",
    "print(\"Best Parameter: {}\".format(svc1_grid.best_params_))"
   ]
  },
  {
   "cell_type": "code",
   "execution_count": 44,
   "metadata": {},
   "outputs": [
    {
     "name": "stdout",
     "output_type": "stream",
     "text": [
      "RANDOM FOREST CLASSIFER (SCALED DATA)\n",
      "best mean cross-validation score: 0.885\n",
      "Test set Score: 0.88\n",
      "Best Parameter: {'randomforestclassifier__n_estimators': 71}\n"
     ]
    }
   ],
   "source": [
    "forest1_pipe = make_pipeline(StandardScaler(), RandomForestClassifier())\n",
    "\n",
    "forest1_param_grid = {'randomforestclassifier__n_estimators': range(10, 100)}\n",
    "forest1_grid = GridSearchCV(forest1_pipe, forest1_param_grid).fit(X1_train_scaled, y_train)\n",
    "\n",
    "print(\"RANDOM FOREST CLASSIFER (SCALED DATA)\")\n",
    "print(\"best mean cross-validation score: {:.3f}\".format(forest1_grid.best_score_))\n",
    "print(\"Test set Score: {:.2f}\".format(forest1_grid.score(X1_test_scaled, y_test)))\n",
    "print(\"Best Parameter: {}\".format(forest1_grid.best_params_))"
   ]
  },
  {
   "cell_type": "code",
   "execution_count": 47,
   "metadata": {},
   "outputs": [
    {
     "name": "stdout",
     "output_type": "stream",
     "text": [
      "LOGISTIC REGRESSION\n",
      "Test set Score: 0.85\n",
      "\n",
      "KNN CLASSIFIER\n",
      "Test set Score: 0.87\n",
      "\n",
      "SUPPORT VECTOR MACHINE\n",
      "Test set Score: 0.86\n",
      "\n",
      "RANDOM FOREST CLASSIFIER\n",
      "Test set Score: 0.88\n"
     ]
    }
   ],
   "source": [
    "print(\"LOGISTIC REGRESSION\")\n",
    "print(\"Test set Score: {:.2f}\".format(logreg1_grid.score(X1_test_scaled, y_test)))\n",
    "print(\"\")\n",
    "print(\"KNN CLASSIFIER\")\n",
    "print(\"Test set Score: {:.2f}\".format(knn1_grid.score(X1_test_scaled, y_test)))\n",
    "print(\"\")\n",
    "print(\"SUPPORT VECTOR MACHINE\")\n",
    "print(\"Test set Score: {:.2f}\".format(svc1_grid.score(X1_test_scaled, y_test)))\n",
    "print(\"\")\n",
    "print(\"RANDOM FOREST CLASSIFIER\")\n",
    "print(\"Test set Score: {:.2f}\".format(forest1_grid.score(X1_test_scaled, y_test)))"
   ]
  },
  {
   "cell_type": "markdown",
   "metadata": {},
   "source": [
    "After adding three more features, all models provide a higher accuracy, while Random Forest still remains as the best model."
   ]
  }
 ],
 "metadata": {
  "kernelspec": {
   "display_name": "Python 3",
   "language": "python",
   "name": "python3"
  },
  "language_info": {
   "codemirror_mode": {
    "name": "ipython",
    "version": 3
   },
   "file_extension": ".py",
   "mimetype": "text/x-python",
   "name": "python",
   "nbconvert_exporter": "python",
   "pygments_lexer": "ipython3",
   "version": "3.7.4"
  }
 },
 "nbformat": 4,
 "nbformat_minor": 2
}
